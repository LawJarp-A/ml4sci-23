{
 "cells": [
  {
   "cell_type": "code",
   "execution_count": 1,
   "id": "138eb1d2-eacd-4879-b986-984b979ec547",
   "metadata": {},
   "outputs": [
    {
     "name": "stderr",
     "output_type": "stream",
     "text": [
      "/home/lawjarp/anaconda3/envs/dldev/lib/python3.10/site-packages/tqdm/auto.py:22: TqdmWarning: IProgress not found. Please update jupyter and ipywidgets. See https://ipywidgets.readthedocs.io/en/stable/user_install.html\n",
      "  from .autonotebook import tqdm as notebook_tqdm\n"
     ]
    }
   ],
   "source": [
    "# Import required libraries\n",
    "import torch\n",
    "import pytorch_lightning as pl\n",
    "import numpy as np\n",
    "import albumentations as A\n",
    "imoprt matplotlib.pyplot as plt\n",
    "import pandas as pd\n",
    "import wandb\n",
    "import glob\n",
    "import timm"
   ]
  },
  {
   "cell_type": "code",
   "execution_count": 2,
   "id": "5840c219",
   "metadata": {},
   "outputs": [],
   "source": [
    "# Get data\n",
    "# Split data into train and test\n",
    "categories = {\n",
    "    \"no\": 0,\n",
    "    \"sphere\": 1,\n",
    "    \"vort\": 2,\n",
    "}\n",
    "\n",
    "dataset_path = \"\"\n",
    "train_dataset_path = dataset_path + \"train/\"\n",
    "val_dataset_path = dataset_path + \"val/\"\n",
    "\n",
    "# Get file paths as a list\n",
    "train_files = glob.glob(train_dataset_path + \"*/*.npy\")\n",
    "val_files = glob.glob(val_dataset_path + \"*/*.npy\")"
   ]
  },
  {
   "cell_type": "code",
   "execution_count": null,
   "id": "5be022e9",
   "metadata": {},
   "outputs": [],
   "source": [
    "# Dataset object\n",
    "# Use albumentations for data augmentation\n",
    "class SubstructureDataset(torch.utils.data.Dataset):\n",
    "    def __init__(self, data_files, transform=None):\n",
    "        self.data_files = data_files\n",
    "        self.transform = transform\n",
    "    def __len__(self):\n",
    "        return len(self.data_files)\n",
    "    def __getitem__(self, idx):\n",
    "        # open npy file\n",
    "        # apply transform\n",
    "        # return image and label\n",
    "        image = np.load(self.data_files[idx])\n",
    "        label = categories[self.data_files[idx].split(\"/\")[-2]]\n",
    "        if self.transform:\n",
    "            image = self.transform(image=image)[\"image\"]\n",
    "        # Convert to tensor\n",
    "        image = torch.tensor(image, dtype=torch.float32)\n",
    "        label = torch.tensor(label, dtype=torch.long)\n",
    "        return image, label"
   ]
  },
  {
   "cell_type": "code",
   "execution_count": null,
   "id": "94720a31",
   "metadata": {},
   "outputs": [],
   "source": [
    "# Define pytorch model\n",
    "# Use timm for pretrained models\n",
    "class Model(torch.nn.Module):\n",
    "    def __init__(self, num_classes):\n",
    "        super().__init__()\n",
    "        self.model = timm.create_model(\"efficientnet_b4\", pretrained=True)\n",
    "        self.model.fc = torch.nn.Linear(self.model.fc.in_features, num_classes)\n",
    "    def forward(self, x):\n",
    "        return self.model(x)\n"
   ]
  },
  {
   "cell_type": "code",
   "execution_count": null,
   "id": "8dd1120b",
   "metadata": {},
   "outputs": [],
   "source": [
    "# Define pl module\n",
    "class LitModel(pl.LightningModule):\n",
    "    def __init__(self, num_classes, lr=1e-3):\n",
    "        super().__init__()\n",
    "        self.model = Model(num_classes)\n",
    "        self.criterion = torch.nn.CrossEntropyLoss()\n",
    "        self.lr = lr\n",
    "    def forward(self, x):\n",
    "        return self.model(x)\n",
    "    def training_step(self, batch, batch_idx):\n",
    "        x, y = batch\n",
    "        y_hat = self(x)\n",
    "        loss = self.criterion(y_hat, y)\n",
    "        self.log(\"train_loss\", loss)\n",
    "        return loss\n",
    "    def validation_step(self, batch, batch_idx):\n",
    "        x, y = batch\n",
    "        y_hat = self(x)\n",
    "        loss = self.criterion(y_hat, y)\n",
    "        self.log(\"val_loss\", loss)\n",
    "    def configure_optimizers(self):\n",
    "        optimizer = torch.optim.Adam(self.parameters(), lr=self.lr)\n",
    "        return optimizer"
   ]
  },
  {
   "cell_type": "code",
   "execution_count": null,
   "id": "ff9ead7e",
   "metadata": {},
   "outputs": [],
   "source": [
    "# Define dataloaders\n",
    "train_transform = A.Compose([\n",
    "    A.HorizontalFlip(p=0.5),\n",
    "    A.VerticalFlip(p=0.5),\n",
    "    A.RandomRotate90(p=0.5),\n",
    "])\n",
    "\n",
    "train_dataset = SubstructureDataset(train_files, transform=train_transform)\n",
    "val_dataset = SubstructureDataset(val_files)\n",
    "\n",
    "train_dataloader = torch.utils.data.DataLoader(train_dataset, batch_size=32, shuffle=True, num_workers=4)\n",
    "val_dataloader = torch.utils.data.DataLoader(val_dataset, batch_size=32, shuffle=False, num_workers=4)"
   ]
  },
  {
   "cell_type": "code",
   "execution_count": null,
   "id": "000558fe",
   "metadata": {},
   "outputs": [],
   "source": [
    "# Train model\n",
    "model = LitModel(num_classes=3)\n",
    "trainer = pl.Trainer(gpus=1, max_epochs=10)\n",
    "trainer.fit(model, train_dataloader, val_dataloader)"
   ]
  }
 ],
 "metadata": {
  "kernelspec": {
   "display_name": "Python 3 (ipykernel)",
   "language": "python",
   "name": "python3"
  },
  "language_info": {
   "codemirror_mode": {
    "name": "ipython",
    "version": 3
   },
   "file_extension": ".py",
   "mimetype": "text/x-python",
   "name": "python",
   "nbconvert_exporter": "python",
   "pygments_lexer": "ipython3",
   "version": "3.10.9"
  }
 },
 "nbformat": 4,
 "nbformat_minor": 5
}
